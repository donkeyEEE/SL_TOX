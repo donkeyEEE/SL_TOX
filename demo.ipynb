{
 "cells": [
  {
   "cell_type": "code",
   "execution_count": 1,
   "metadata": {},
   "outputs": [],
   "source": [
    "import numpy as np\n",
    "import pandas as pd\n",
    "import models.LAY2 as LAY\n",
    "from DB.DB import db\n",
    "from models import utils\n",
    "from models.utils import metric_r, metric_c\n",
    "import models.meta_models as meta_models"
   ]
  },
  {
   "cell_type": "code",
   "execution_count": 2,
   "metadata": {},
   "outputs": [
    {
     "name": "stdout",
     "output_type": "stream",
     "text": [
      "data already finished size =9022\n",
      "fold0\n"
     ]
    }
   ],
   "source": [
    "# 加载数据集\n",
    "data_loader = db('DataBase/DB.csv')\n",
    "# data_loader.get_data()\n",
    "data_loader.data = data_loader.data.iloc[:20, :]\n",
    "# 五折切割\n",
    "train, test = next(data_loader.get_folds())"
   ]
  },
  {
   "cell_type": "code",
   "execution_count": 3,
   "id": "4317b1f3",
   "metadata": {},
   "outputs": [
    {
     "data": {
      "text/html": [
       "<div>\n",
       "<style scoped>\n",
       "    .dataframe tbody tr th:only-of-type {\n",
       "        vertical-align: middle;\n",
       "    }\n",
       "\n",
       "    .dataframe tbody tr th {\n",
       "        vertical-align: top;\n",
       "    }\n",
       "\n",
       "    .dataframe thead th {\n",
       "        text-align: right;\n",
       "    }\n",
       "</style>\n",
       "<table border=\"1\" class=\"dataframe\">\n",
       "  <thead>\n",
       "    <tr style=\"text-align: right;\">\n",
       "      <th></th>\n",
       "      <th>id</th>\n",
       "      <th>smiles</th>\n",
       "      <th>LogLD</th>\n",
       "    </tr>\n",
       "  </thead>\n",
       "  <tbody>\n",
       "    <tr>\n",
       "      <th>0</th>\n",
       "      <td>100-00-5</td>\n",
       "      <td>C1=CC(=CC=C1[N+](=O)[O-])Cl</td>\n",
       "      <td>2.719213</td>\n",
       "    </tr>\n",
       "    <tr>\n",
       "      <th>1</th>\n",
       "      <td>100-02-7</td>\n",
       "      <td>C1=CC(=CC=C1[N+](=O)[O-])O</td>\n",
       "      <td>2.285557</td>\n",
       "    </tr>\n",
       "    <tr>\n",
       "      <th>2</th>\n",
       "      <td>100-14-1</td>\n",
       "      <td>C1=CC(=CC=C1CCl)[N+](=O)[O-]</td>\n",
       "      <td>3.257439</td>\n",
       "    </tr>\n",
       "    <tr>\n",
       "      <th>3</th>\n",
       "      <td>100-15-2</td>\n",
       "      <td>CNC1=CC=C(C=C1)[N+](=O)[O-]</td>\n",
       "      <td>3.301030</td>\n",
       "    </tr>\n",
       "    <tr>\n",
       "      <th>5</th>\n",
       "      <td>100-18-5</td>\n",
       "      <td>CC(C)C1=CC=C(C=C1)C(C)C</td>\n",
       "      <td>3.505150</td>\n",
       "    </tr>\n",
       "    <tr>\n",
       "      <th>6</th>\n",
       "      <td>100-20-9</td>\n",
       "      <td>C1=CC(=CC=C1C(=O)Cl)C(=O)Cl</td>\n",
       "      <td>3.397940</td>\n",
       "    </tr>\n",
       "    <tr>\n",
       "      <th>7</th>\n",
       "      <td>100-21-0</td>\n",
       "      <td>C1=CC(=CC=C1C(=O)O)C(=O)O</td>\n",
       "      <td>3.978089</td>\n",
       "    </tr>\n",
       "    <tr>\n",
       "      <th>8</th>\n",
       "      <td>100-28-7</td>\n",
       "      <td>C1=CC(=CC=C1N=C=O)[N+](=O)[O-]</td>\n",
       "      <td>3.204120</td>\n",
       "    </tr>\n",
       "    <tr>\n",
       "      <th>9</th>\n",
       "      <td>100-29-8</td>\n",
       "      <td>CCOC1=CC=C(C=C1)[N+](=O)[O-]</td>\n",
       "      <td>3.518514</td>\n",
       "    </tr>\n",
       "    <tr>\n",
       "      <th>11</th>\n",
       "      <td>100-36-7</td>\n",
       "      <td>CCN(CC)CCN</td>\n",
       "      <td>3.451786</td>\n",
       "    </tr>\n",
       "    <tr>\n",
       "      <th>12</th>\n",
       "      <td>100-37-8</td>\n",
       "      <td>CCN(CC)CCO</td>\n",
       "      <td>3.113943</td>\n",
       "    </tr>\n",
       "    <tr>\n",
       "      <th>14</th>\n",
       "      <td>100-42-5</td>\n",
       "      <td>C=CC1=CC=CC=C1</td>\n",
       "      <td>3.459895</td>\n",
       "    </tr>\n",
       "    <tr>\n",
       "      <th>15</th>\n",
       "      <td>100-44-7</td>\n",
       "      <td>C1=CC=C(C=C1)CCl</td>\n",
       "      <td>2.941449</td>\n",
       "    </tr>\n",
       "    <tr>\n",
       "      <th>17</th>\n",
       "      <td>100-51-6</td>\n",
       "      <td>C1=CC=C(C=C1)CO</td>\n",
       "      <td>3.269513</td>\n",
       "    </tr>\n",
       "    <tr>\n",
       "      <th>18</th>\n",
       "      <td>100-52-7</td>\n",
       "      <td>C1=CC=C(C=C1)C=O</td>\n",
       "      <td>3.135133</td>\n",
       "    </tr>\n",
       "    <tr>\n",
       "      <th>19</th>\n",
       "      <td>100-53-8</td>\n",
       "      <td>C1=CC=C(C=C1)CS</td>\n",
       "      <td>2.692847</td>\n",
       "    </tr>\n",
       "  </tbody>\n",
       "</table>\n",
       "</div>"
      ],
      "text/plain": [
       "          id                          smiles     LogLD\n",
       "0   100-00-5     C1=CC(=CC=C1[N+](=O)[O-])Cl  2.719213\n",
       "1   100-02-7      C1=CC(=CC=C1[N+](=O)[O-])O  2.285557\n",
       "2   100-14-1    C1=CC(=CC=C1CCl)[N+](=O)[O-]  3.257439\n",
       "3   100-15-2     CNC1=CC=C(C=C1)[N+](=O)[O-]  3.301030\n",
       "5   100-18-5         CC(C)C1=CC=C(C=C1)C(C)C  3.505150\n",
       "6   100-20-9     C1=CC(=CC=C1C(=O)Cl)C(=O)Cl  3.397940\n",
       "7   100-21-0       C1=CC(=CC=C1C(=O)O)C(=O)O  3.978089\n",
       "8   100-28-7  C1=CC(=CC=C1N=C=O)[N+](=O)[O-]  3.204120\n",
       "9   100-29-8    CCOC1=CC=C(C=C1)[N+](=O)[O-]  3.518514\n",
       "11  100-36-7                      CCN(CC)CCN  3.451786\n",
       "12  100-37-8                      CCN(CC)CCO  3.113943\n",
       "14  100-42-5                  C=CC1=CC=CC=C1  3.459895\n",
       "15  100-44-7                C1=CC=C(C=C1)CCl  2.941449\n",
       "17  100-51-6                 C1=CC=C(C=C1)CO  3.269513\n",
       "18  100-52-7                C1=CC=C(C=C1)C=O  3.135133\n",
       "19  100-53-8                 C1=CC=C(C=C1)CS  2.692847"
      ]
     },
     "execution_count": 3,
     "metadata": {},
     "output_type": "execute_result"
    }
   ],
   "source": [
    "train"
   ]
  },
  {
   "cell_type": "markdown",
   "id": "7611feab",
   "metadata": {},
   "source": [
    "train.to_csv(\"train.csv\")\n",
    "test.to_csv(\"test.csv\")"
   ]
  },
  {
   "cell_type": "code",
   "execution_count": 11,
   "id": "525cea5d",
   "metadata": {},
   "outputs": [
    {
     "name": "stdout",
     "output_type": "stream",
     "text": [
      "The structure of Stacking model:\n",
      "id= 0,Message passing neural network for molecular property prediction.\n"
     ]
    }
   ],
   "source": [
    "# 定义模型结构\n",
    "model_structure = utils.model_sequential(\n",
    "    # meta_models.meta_RF(ECFP_Params=[2048,2]),\n",
    "    # meta_models.meta_RF(ECFP_Params=[4096,2]),\n",
    "    meta_models.meta_MPNN(),\n",
    "    # meta_models.meta_AFP(),\n",
    "    # meta_models.meta_DNN(ECFP_Params=[2048,2]),\n",
    "    # meta_models.meta_GCN(),\n",
    "    # meta_models.meta_SVR(),\n",
    "    # meta_models.meta_GAT(),\n",
    "    \n",
    ")\n",
    "model_structure.show_models()"
   ]
  },
  {
   "cell_type": "code",
   "execution_count": 12,
   "id": "38923d52",
   "metadata": {},
   "outputs": [
    {
     "name": "stderr",
     "output_type": "stream",
     "text": [
      "Command line\n"
     ]
    },
    {
     "name": "stdout",
     "output_type": "stream",
     "text": [
      "The structure of Stacking model:\n",
      "id= 0,Message passing neural network for molecular property prediction.\n",
      "start training MPNN \n"
     ]
    },
    {
     "name": "stderr",
     "output_type": "stream",
     "text": [
      "python e:\\ProgramFiles\\anaconda3\\Lib\\site-packages\\ipykernel_launcher.py --ip=127.0.0.1 --stdin=9003 --control=9001 --hb=9000 --Session.signature_scheme=\"hmac-sha256\" --Session.key=b\"93ba2342-c883-41aa-8bc1-533e82595517\" --shell=9002 --transport=\"tcp\" --iopub=9004 --f=c:\\Users\\donkey\\AppData\\Roaming\\jupyter\\runtime\\kernel-v2-285280e7Hji5rRUtk.json\n",
      "Args\n",
      "{'activation': 'ReLU',\n",
      " 'adding_bond_types': True,\n",
      " 'adding_h': False,\n",
      " 'aggregation': 'mean',\n",
      " 'aggregation_norm': 100,\n",
      " 'atom_constraints': [],\n",
      " 'atom_descriptor_scaling': True,\n",
      " 'atom_descriptors': None,\n",
      " 'atom_descriptors_path': None,\n",
      " 'atom_descriptors_size': 0,\n",
      " 'atom_features_size': 0,\n",
      " 'atom_messages': False,\n",
      " 'atom_targets': [],\n",
      " 'batch_size': 50,\n",
      " 'bias': False,\n",
      " 'bias_solvent': False,\n",
      " 'bond_constraints': [],\n",
      " 'bond_descriptor_scaling': True,\n",
      " 'bond_descriptors': None,\n",
      " 'bond_descriptors_path': None,\n",
      " 'bond_descriptors_size': 0,\n",
      " 'bond_features_size': 0,\n",
      " 'bond_targets': [],\n",
      " 'cache_cutoff': 10000,\n",
      " 'checkpoint_dir': None,\n",
      " 'checkpoint_frzn': None,\n",
      " 'checkpoint_path': None,\n",
      " 'checkpoint_paths': None,\n",
      " 'class_balance': False,\n",
      " 'config_path': None,\n",
      " 'constraints_path': None,\n",
      " 'crossval_index_dir': None,\n",
      " 'crossval_index_file': None,\n",
      " 'crossval_index_sets': None,\n",
      " 'cuda': False,\n",
      " 'data_path': 'model_checkpoint_debug/MPNN/train.csv',\n",
      " 'data_weights_path': None,\n",
      " 'dataset_type': 'regression',\n",
      " 'depth': 3,\n",
      " 'depth_solvent': 3,\n",
      " 'device': device(type='cpu'),\n",
      " 'dropout': 0.0,\n",
      " 'empty_cache': False,\n",
      " 'ensemble_size': 1,\n",
      " 'epochs': 25,\n",
      " 'evidential_regularization': 0,\n",
      " 'explicit_h': False,\n",
      " 'extra_metrics': [],\n",
      " 'features_generator': None,\n",
      " 'features_only': False,\n",
      " 'features_path': None,\n",
      " 'features_scaling': True,\n",
      " 'features_size': None,\n",
      " 'ffn_hidden_size': 300,\n",
      " 'ffn_num_layers': 2,\n",
      " 'final_lr': 0.0001,\n",
      " 'folds_file': None,\n",
      " 'freeze_first_only': False,\n",
      " 'frzn_ffn_layers': 0,\n",
      " 'gpu': None,\n",
      " 'grad_clip': None,\n",
      " 'hidden_size': 300,\n",
      " 'hidden_size_solvent': 300,\n",
      " 'ignore_columns': None,\n",
      " 'init_lr': 0.0001,\n",
      " 'is_atom_bond_targets': False,\n",
      " 'keeping_atom_map': False,\n",
      " 'log_frequency': 10,\n",
      " 'loss_function': 'mse',\n",
      " 'max_data_size': None,\n",
      " 'max_lr': 0.001,\n",
      " 'metric': 'rmse',\n",
      " 'metrics': ['rmse'],\n",
      " 'minimize_score': True,\n",
      " 'mpn_shared': False,\n",
      " 'multiclass_num_classes': 3,\n",
      " 'no_adding_bond_types': False,\n",
      " 'no_atom_descriptor_scaling': False,\n",
      " 'no_bond_descriptor_scaling': False,\n",
      " 'no_cache_mol': False,\n",
      " 'no_cuda': False,\n",
      " 'no_features_scaling': False,\n",
      " 'no_shared_atom_bond_ffn': False,\n",
      " 'num_folds': 1,\n",
      " 'num_lrs': 1,\n",
      " 'num_tasks': 1,\n",
      " 'num_workers': 8,\n",
      " 'number_of_molecules': 1,\n",
      " 'overwrite_default_atom_features': False,\n",
      " 'overwrite_default_bond_features': False,\n",
      " 'phase_features_path': None,\n",
      " 'pytorch_seed': 0,\n",
      " 'quiet': False,\n",
      " 'reaction': False,\n",
      " 'reaction_mode': 'reac_diff',\n",
      " 'reaction_solvent': False,\n",
      " 'resume_experiment': False,\n",
      " 'save_dir': 'model_checkpoint_debug/MPNN/test_checkpoints_reg',\n",
      " 'save_preds': False,\n",
      " 'save_smiles_splits': False,\n",
      " 'seed': 0,\n",
      " 'separate_test_atom_descriptors_path': None,\n",
      " 'separate_test_bond_descriptors_path': None,\n",
      " 'separate_test_constraints_path': None,\n",
      " 'separate_test_features_path': None,\n",
      " 'separate_test_path': 'model_checkpoint_debug/MPNN/test.csv',\n",
      " 'separate_test_phase_features_path': None,\n",
      " 'separate_val_atom_descriptors_path': None,\n",
      " 'separate_val_bond_descriptors_path': None,\n",
      " 'separate_val_constraints_path': None,\n",
      " 'separate_val_features_path': None,\n",
      " 'separate_val_path': 'model_checkpoint_debug/MPNN/test.csv',\n",
      " 'separate_val_phase_features_path': None,\n",
      " 'shared_atom_bond_ffn': True,\n",
      " 'show_individual_scores': False,\n",
      " 'smiles_columns': ['smiles'],\n",
      " 'spectra_activation': 'exp',\n",
      " 'spectra_phase_mask_path': None,\n",
      " 'spectra_target_floor': 1e-08,\n",
      " 'split_key_molecule': 0,\n",
      " 'split_sizes': [1.0, 0.0, 0.0],\n",
      " 'split_type': 'random',\n",
      " 'target_columns': None,\n",
      " 'target_weights': None,\n",
      " 'task_names': ['LogLD'],\n",
      " 'test': False,\n",
      " 'test_fold_index': None,\n",
      " 'train_data_size': None,\n",
      " 'undirected': False,\n",
      " 'use_input_features': False,\n",
      " 'val_fold_index': None,\n",
      " 'warmup_epochs': 2.0,\n",
      " 'weights_ffn_num_layers': 2}\n",
      "Setting molecule featurization parameters to default.\n",
      "Loading data\n",
      "16it [00:00, 15880.00it/s]\n",
      "100%|██████████| 16/16 [00:00<?, ?it/s]\n",
      "100%|██████████| 16/16 [00:00<00:00, 3201.91it/s]\n",
      "Number of tasks = 1\n",
      "Fold 0\n",
      "Splitting data with seed 0\n",
      "4it [00:00, 5057.95it/s]\n",
      "100%|██████████| 4/4 [00:00<?, ?it/s]\n",
      "100%|██████████| 4/4 [00:00<00:00, 4046.60it/s]\n",
      "4it [00:00, 3816.47it/s]\n",
      "100%|██████████| 4/4 [00:00<?, ?it/s]\n",
      "100%|██████████| 4/4 [00:00<?, ?it/s]\n",
      "Total size = 16 | train size = 16 | val size = 4 | test size = 4\n",
      "Fitting scaler\n",
      "Building model 0\n",
      "MoleculeModel(\n",
      "  (encoder): MPN(\n",
      "    (encoder): ModuleList(\n",
      "      (0): MPNEncoder(\n",
      "        (dropout): Dropout(p=0.0, inplace=False)\n",
      "        (act_func): ReLU()\n",
      "        (W_i): Linear(in_features=147, out_features=300, bias=False)\n",
      "        (W_h): Linear(in_features=300, out_features=300, bias=False)\n",
      "        (W_o): Linear(in_features=433, out_features=300, bias=True)\n",
      "      )\n",
      "    )\n",
      "  )\n",
      "  (readout): Sequential(\n",
      "    (0): Dropout(p=0.0, inplace=False)\n",
      "    (1): Linear(in_features=300, out_features=300, bias=True)\n",
      "    (2): ReLU()\n",
      "    (3): Dropout(p=0.0, inplace=False)\n",
      "    (4): Linear(in_features=300, out_features=1, bias=True)\n",
      "  )\n",
      ")\n",
      "Number of parameters = 355,201\n",
      "  0%|          | 0/25 [00:00<?, ?it/s]Epoch 0\n",
      "Loss = 1.0219e+00, PNorm = 34.0103, GNorm = 1.5131, lr_0 = 1.0000e-04\n",
      "Validation rmse = 1.031066\n",
      "  4%|▍         | 1/25 [00:00<00:15,  1.59it/s]Epoch 1\n",
      "Loss = 9.9636e-01, PNorm = 34.0103, GNorm = 1.1614, lr_0 = 1.0000e-04\n",
      "Validation rmse = 1.044006\n",
      "Epoch 2\n",
      "Loss = 9.7831e-01, PNorm = 34.0103, GNorm = 1.0816, lr_0 = 1.0000e-04\n",
      "Validation rmse = 1.054075\n",
      " 12%|█▏        | 3/25 [00:00<00:04,  4.57it/s]Epoch 3\n",
      "Validation rmse = 1.062687\n",
      "Epoch 4\n",
      "Validation rmse = 1.070988\n",
      " 20%|██        | 5/25 [00:00<00:02,  7.05it/s]Epoch 5\n",
      "Validation rmse = 1.079470\n",
      "Epoch 6\n",
      "Validation rmse = 1.088441\n",
      " 28%|██▊       | 7/25 [00:01<00:02,  8.88it/s]Epoch 7\n",
      "Validation rmse = 1.097046\n",
      "Epoch 8\n",
      "Validation rmse = 1.104520\n",
      " 36%|███▌      | 9/25 [00:01<00:01, 10.42it/s]Epoch 9\n",
      "Validation rmse = 1.110472\n",
      "Epoch 10\n",
      "Validation rmse = 1.114613\n",
      " 44%|████▍     | 11/25 [00:01<00:01, 11.82it/s]Epoch 11\n",
      "Validation rmse = 1.117208\n",
      "Epoch 12\n",
      "Validation rmse = 1.118801\n",
      " 52%|█████▏    | 13/25 [00:01<00:00, 12.25it/s]Epoch 13\n",
      "Validation rmse = 1.119744\n",
      "Epoch 14\n",
      "Validation rmse = 1.120448\n",
      " 60%|██████    | 15/25 [00:01<00:00, 13.09it/s]Epoch 15\n",
      "Validation rmse = 1.120930\n",
      "Epoch 16\n",
      "Validation rmse = 1.121135\n",
      " 68%|██████▊   | 17/25 [00:01<00:00, 12.96it/s]Epoch 17\n",
      "Validation rmse = 1.120663\n",
      "Epoch 18\n",
      "Validation rmse = 1.119145\n",
      " 76%|███████▌  | 19/25 [00:01<00:00, 13.43it/s]Epoch 19\n",
      "Validation rmse = 1.116667\n",
      "Epoch 20\n",
      "Validation rmse = 1.113769\n",
      " 84%|████████▍ | 21/25 [00:02<00:00, 14.38it/s]Epoch 21\n",
      "Validation rmse = 1.110964\n",
      "Epoch 22\n",
      "Validation rmse = 1.108667\n",
      " 92%|█████████▏| 23/25 [00:02<00:00, 14.84it/s]Epoch 23\n",
      "Validation rmse = 1.107028\n",
      "Epoch 24\n",
      "Validation rmse = 1.105917\n",
      "100%|██████████| 25/25 [00:02<00:00, 11.06it/s]\n",
      "Model 0 best validation rmse = 1.031066 on epoch 0\n",
      "Loading pretrained parameter \"encoder.encoder.0.cached_zero_vector\".\n",
      "Loading pretrained parameter \"encoder.encoder.0.W_i.weight\".\n",
      "Loading pretrained parameter \"encoder.encoder.0.W_h.weight\".\n",
      "Loading pretrained parameter \"encoder.encoder.0.W_o.weight\".\n",
      "Loading pretrained parameter \"encoder.encoder.0.W_o.bias\".\n",
      "Loading pretrained parameter \"readout.1.weight\".\n",
      "Loading pretrained parameter \"readout.1.bias\".\n",
      "Loading pretrained parameter \"readout.4.weight\".\n",
      "Loading pretrained parameter \"readout.4.bias\".\n",
      "Model 0 test rmse = 1.031066         \n",
      "Ensemble test rmse = 1.031066\n",
      "1-fold cross validation\n",
      "\tSeed 0 ==> test rmse = 1.031066\n",
      "Overall test rmse = 1.031066 +/- 0.000000\n",
      "Elapsed time = 0:00:03\n"
     ]
    },
    {
     "ename": "StopIteration",
     "evalue": "",
     "output_type": "error",
     "traceback": [
      "\u001b[1;31m---------------------------------------------------------------------------\u001b[0m",
      "\u001b[1;31mStopIteration\u001b[0m                             Traceback (most recent call last)",
      "Cell \u001b[1;32mIn[12], line 2\u001b[0m\n\u001b[0;32m      1\u001b[0m eb_model \u001b[39m=\u001b[39m LAY\u001b[39m.\u001b[39mensemble_models_new(model_save_files\u001b[39m=\u001b[39m\u001b[39m'\u001b[39m\u001b[39mmodel_checkpoint_debug\u001b[39m\u001b[39m'\u001b[39m)\n\u001b[1;32m----> 2\u001b[0m eb_model\u001b[39m.\u001b[39mtrain_meta_models(train,test,model_squential\u001b[39m=\u001b[39mmodel_structure,save\u001b[39m=\u001b[39m\u001b[39mTrue\u001b[39;00m)\n\u001b[0;32m      3\u001b[0m eb_model\u001b[39m.\u001b[39mL1_test_df\n",
      "File \u001b[1;32me:\\学习\\python\\py_codbase\\shiny_stacking\\Stacking_model\\models\\LAY2.py:75\u001b[0m, in \u001b[0;36mensemble_models_new.train_meta_models\u001b[1;34m(self, train, test, model_squential, save, plot)\u001b[0m\n\u001b[0;32m     72\u001b[0m \u001b[39m# model.model_save_files = self.model_save_files\u001b[39;00m\n\u001b[0;32m     74\u001b[0m model\u001b[39m.\u001b[39mid \u001b[39m=\u001b[39m \u001b[39mid\u001b[39m\n\u001b[1;32m---> 75\u001b[0m recorder_dic \u001b[39m=\u001b[39m \u001b[39mself\u001b[39m\u001b[39m.\u001b[39mrun_models(train,test,model,data_set_dic)\n\u001b[0;32m     76\u001b[0m \u001b[39m#recorder_df(dic): 训练和预测结果\u001b[39;00m\n\u001b[0;32m     77\u001b[0m \u001b[39m#{'train_true': y_train, 'train_pre': train_pre, 'test_true': y_val, 'test_pre': pre}\u001b[39;00m\n\u001b[0;32m     78\u001b[0m \u001b[39m# dic_train[f'{model.name}_{id}'] = recorder_dic.get('train_pre', None)\u001b[39;00m\n\u001b[0;32m     79\u001b[0m \u001b[39m# dic_test[f'{model.name}_{id}'] = recorder_dic.get('test_pre', None)\u001b[39;00m\n\u001b[0;32m     81\u001b[0m \u001b[39mif\u001b[39;00m \u001b[39misinstance\u001b[39m(recorder_dic, \u001b[39mdict\u001b[39m):\n",
      "File \u001b[1;32me:\\学习\\python\\py_codbase\\shiny_stacking\\Stacking_model\\models\\LAY2.py:560\u001b[0m, in \u001b[0;36mensemble_models_new.run_models\u001b[1;34m(self, train_data, test_data, model, data_set_dic)\u001b[0m\n\u001b[0;32m    558\u001b[0m     \u001b[39mreturn\u001b[39;00m recorder\n\u001b[0;32m    559\u001b[0m \u001b[39melif\u001b[39;00m \u001b[39misinstance\u001b[39m(model,meta_models\u001b[39m.\u001b[39mmeta_MPNN):\n\u001b[1;32m--> 560\u001b[0m     recorder \u001b[39m=\u001b[39m model\u001b[39m.\u001b[39mget_MPNN(train_data,test_data)\n\u001b[0;32m    561\u001b[0m     \u001b[39mreturn\u001b[39;00m recorder\n\u001b[0;32m    562\u001b[0m \u001b[39melif\u001b[39;00m \u001b[39misinstance\u001b[39m(model,meta_models\u001b[39m.\u001b[39mmeta_RF):\n",
      "File \u001b[1;32me:\\学习\\python\\py_codbase\\shiny_stacking\\Stacking_model\\models\\meta_models.py:239\u001b[0m, in \u001b[0;36mmeta_MPNN.get_MPNN\u001b[1;34m(self, train_set, test_set)\u001b[0m\n\u001b[0;32m    222\u001b[0m \u001b[39m\u001b[39m\u001b[39m\"\"\"\u001b[39;00m\n\u001b[0;32m    223\u001b[0m \u001b[39m        arguments = [\u001b[39;00m\n\u001b[0;32m    224\u001b[0m \u001b[39m            '--test_path', '{}/MPNN/test.csv'.format(model_save_files),\u001b[39;00m\n\u001b[1;32m   (...)\u001b[0m\n\u001b[0;32m    230\u001b[0m \u001b[39m        \u001b[39;00m\n\u001b[0;32m    231\u001b[0m \u001b[39m        \"\"\"\u001b[39;00m\n\u001b[0;32m    233\u001b[0m arguments \u001b[39m=\u001b[39m [\n\u001b[0;32m    234\u001b[0m     \u001b[39m'\u001b[39m\u001b[39m--test_path\u001b[39m\u001b[39m'\u001b[39m, \u001b[39m'\u001b[39m\u001b[39m/dev/null\u001b[39m\u001b[39m'\u001b[39m,\n\u001b[0;32m    235\u001b[0m     \u001b[39m'\u001b[39m\u001b[39m--preds_path\u001b[39m\u001b[39m'\u001b[39m, \u001b[39m'\u001b[39m\u001b[39m/dev/null\u001b[39m\u001b[39m'\u001b[39m,\n\u001b[0;32m    236\u001b[0m     \u001b[39m'\u001b[39m\u001b[39m--checkpoint_dir\u001b[39m\u001b[39m'\u001b[39m, \u001b[39m'\u001b[39m\u001b[39m{}\u001b[39;00m\u001b[39m/MPNN/test_checkpoints_reg\u001b[39m\u001b[39m'\u001b[39m\u001b[39m.\u001b[39mformat(\u001b[39mself\u001b[39m\u001b[39m.\u001b[39mmodel_save_files)\n\u001b[0;32m    237\u001b[0m ]\n\u001b[1;32m--> 239\u001b[0m args \u001b[39m=\u001b[39m chemprop\u001b[39m.\u001b[39margs\u001b[39m.\u001b[39mPredictArgs()\u001b[39m.\u001b[39mparse_args(arguments) \u001b[39m# type: ignore\u001b[39;00m\n\u001b[0;32m    240\u001b[0m model_objects \u001b[39m=\u001b[39m chemprop\u001b[39m.\u001b[39mtrain\u001b[39m.\u001b[39mload_model(args\u001b[39m=\u001b[39margs)  \u001b[39m# type: ignore\u001b[39;00m\n\u001b[0;32m    242\u001b[0m \u001b[39mdef\u001b[39;00m \u001b[39mseries_to_2Dlis\u001b[39m(serise):\n",
      "File \u001b[1;32me:\\ProgramFiles\\anaconda3\\Lib\\site-packages\\tap\\tap.py:467\u001b[0m, in \u001b[0;36mTap.parse_args\u001b[1;34m(self, args, known_only, legacy_config_parsing)\u001b[0m\n\u001b[0;32m    464\u001b[0m     \u001b[39msetattr\u001b[39m(\u001b[39mself\u001b[39m, variable, value)\n\u001b[0;32m    466\u001b[0m \u001b[39m# Process args\u001b[39;00m\n\u001b[1;32m--> 467\u001b[0m \u001b[39mself\u001b[39m\u001b[39m.\u001b[39mprocess_args()\n\u001b[0;32m    469\u001b[0m \u001b[39m# Indicate that args have been parsed\u001b[39;00m\n\u001b[0;32m    470\u001b[0m \u001b[39mself\u001b[39m\u001b[39m.\u001b[39m_parsed \u001b[39m=\u001b[39m \u001b[39mTrue\u001b[39;00m\n",
      "File \u001b[1;32me:\\ProgramFiles\\anaconda3\\Lib\\site-packages\\chemprop\\args.py:934\u001b[0m, in \u001b[0;36mPredictArgs.process_args\u001b[1;34m(self)\u001b[0m\n\u001b[0;32m    931\u001b[0m \u001b[39mif\u001b[39;00m \u001b[39mself\u001b[39m\u001b[39m.\u001b[39muncertainty_method \u001b[39m==\u001b[39m \u001b[39m'\u001b[39m\u001b[39mdropout\u001b[39m\u001b[39m'\u001b[39m \u001b[39mand\u001b[39;00m version\u001b[39m.\u001b[39mparse(torch\u001b[39m.\u001b[39m__version__) \u001b[39m<\u001b[39m version\u001b[39m.\u001b[39mparse(\u001b[39m'\u001b[39m\u001b[39m1.9.0\u001b[39m\u001b[39m'\u001b[39m):\n\u001b[0;32m    932\u001b[0m     \u001b[39mraise\u001b[39;00m \u001b[39mValueError\u001b[39;00m(\u001b[39m'\u001b[39m\u001b[39mDropout uncertainty is only supported for pytorch versions >= 1.9.0\u001b[39m\u001b[39m'\u001b[39m)\n\u001b[1;32m--> 934\u001b[0m \u001b[39mself\u001b[39m\u001b[39m.\u001b[39msmiles_columns \u001b[39m=\u001b[39m chemprop\u001b[39m.\u001b[39mdata\u001b[39m.\u001b[39mutils\u001b[39m.\u001b[39mpreprocess_smiles_columns(\n\u001b[0;32m    935\u001b[0m     path\u001b[39m=\u001b[39m\u001b[39mself\u001b[39m\u001b[39m.\u001b[39mtest_path,\n\u001b[0;32m    936\u001b[0m     smiles_columns\u001b[39m=\u001b[39m\u001b[39mself\u001b[39m\u001b[39m.\u001b[39msmiles_columns,\n\u001b[0;32m    937\u001b[0m     number_of_molecules\u001b[39m=\u001b[39m\u001b[39mself\u001b[39m\u001b[39m.\u001b[39mnumber_of_molecules,\n\u001b[0;32m    938\u001b[0m )\n\u001b[0;32m    940\u001b[0m \u001b[39mif\u001b[39;00m \u001b[39mself\u001b[39m\u001b[39m.\u001b[39mcheckpoint_paths \u001b[39mis\u001b[39;00m \u001b[39mNone\u001b[39;00m \u001b[39mor\u001b[39;00m \u001b[39mlen\u001b[39m(\u001b[39mself\u001b[39m\u001b[39m.\u001b[39mcheckpoint_paths) \u001b[39m==\u001b[39m \u001b[39m0\u001b[39m:\n\u001b[0;32m    941\u001b[0m     \u001b[39mraise\u001b[39;00m \u001b[39mValueError\u001b[39;00m(\u001b[39m'\u001b[39m\u001b[39mFound no checkpoints. Must specify --checkpoint_path <path> or \u001b[39m\u001b[39m'\u001b[39m\n\u001b[0;32m    942\u001b[0m                      \u001b[39m'\u001b[39m\u001b[39m--checkpoint_dir <dir> containing at least one checkpoint.\u001b[39m\u001b[39m'\u001b[39m)\n",
      "File \u001b[1;32me:\\ProgramFiles\\anaconda3\\Lib\\site-packages\\chemprop\\data\\utils.py:54\u001b[0m, in \u001b[0;36mpreprocess_smiles_columns\u001b[1;34m(path, smiles_columns, number_of_molecules)\u001b[0m\n\u001b[0;32m     52\u001b[0m \u001b[39mif\u001b[39;00m smiles_columns \u001b[39mis\u001b[39;00m \u001b[39mNone\u001b[39;00m:\n\u001b[0;32m     53\u001b[0m     \u001b[39mif\u001b[39;00m os\u001b[39m.\u001b[39mpath\u001b[39m.\u001b[39misfile(path):\n\u001b[1;32m---> 54\u001b[0m         columns \u001b[39m=\u001b[39m get_header(path)\n\u001b[0;32m     55\u001b[0m         smiles_columns \u001b[39m=\u001b[39m columns[:number_of_molecules]\n\u001b[0;32m     56\u001b[0m     \u001b[39melse\u001b[39;00m:\n",
      "File \u001b[1;32me:\\ProgramFiles\\anaconda3\\Lib\\site-packages\\chemprop\\data\\utils.py:33\u001b[0m, in \u001b[0;36mget_header\u001b[1;34m(path)\u001b[0m\n\u001b[0;32m     27\u001b[0m \u001b[39m\u001b[39m\u001b[39m\"\"\"\u001b[39;00m\n\u001b[0;32m     28\u001b[0m \u001b[39mReturns the header of a data CSV file.\u001b[39;00m\n\u001b[0;32m     29\u001b[0m \u001b[39m:param path: Path to a CSV file.\u001b[39;00m\n\u001b[0;32m     30\u001b[0m \u001b[39m:return: A list of strings containing the strings in the comma-separated header.\u001b[39;00m\n\u001b[0;32m     31\u001b[0m \u001b[39m\"\"\"\u001b[39;00m\n\u001b[0;32m     32\u001b[0m \u001b[39mwith\u001b[39;00m \u001b[39mopen\u001b[39m(path) \u001b[39mas\u001b[39;00m f:\n\u001b[1;32m---> 33\u001b[0m     header \u001b[39m=\u001b[39m \u001b[39mnext\u001b[39m(csv\u001b[39m.\u001b[39mreader(f))\n\u001b[0;32m     35\u001b[0m \u001b[39mreturn\u001b[39;00m header\n",
      "\u001b[1;31mStopIteration\u001b[0m: "
     ]
    }
   ],
   "source": [
    "eb_model = LAY.ensemble_models_new(model_save_files='model_checkpoint_debug')\n",
    "eb_model.train_meta_models(train,test,model_squential=model_structure,save=True)\n",
    "eb_model.L1_test_df"
   ]
  },
  {
   "cell_type": "code",
   "execution_count": 6,
   "id": "37127f0d",
   "metadata": {},
   "outputs": [
    {
     "name": "stdout",
     "output_type": "stream",
     "text": [
      "The structure of Stacking model:\n",
      "id= 0,Support vector regression for the second layer of Stacking_model\n",
      "id= 0,Random Forest Regressor for the second layer of Stacking_model\n",
      "id= 0,Random Forest Regressor for the second layer of Stacking_model\n",
      "id= 0,Support vector regression for the second layer of Stacking_model\n"
     ]
    }
   ],
   "source": [
    "# 定义模型第二层结构\n",
    "model_structure = utils.model_sequential(\n",
    "    meta_models.L2_SVR(),\n",
    "    meta_models.L2_RF(),\n",
    "    meta_models.L2_RF(),\n",
    "    meta_models.L2_SVR()\n",
    ")\n",
    "model_structure.show_models()"
   ]
  },
  {
   "cell_type": "code",
   "execution_count": 7,
   "id": "1bfbda7b",
   "metadata": {},
   "outputs": [
    {
     "name": "stdout",
     "output_type": "stream",
     "text": [
      "The structure of Stacking model:\n",
      "id= 0,Support vector regression for the second layer of Stacking_model\n",
      "id= 0,Random Forest Regressor for the second layer of Stacking_model\n",
      "id= 0,Random Forest Regressor for the second layer of Stacking_model\n",
      "id= 0,Support vector regression for the second layer of Stacking_model\n",
      "Start fitting SVR in L2\n",
      "===============\n",
      "model_checkpoint_debug\n",
      "Start fitting RF in L2\n",
      "===============\n",
      "model_checkpoint_debug\n",
      "Start fitting RF in L2\n",
      "===============\n",
      "model_checkpoint_debug\n",
      "Start fitting SVR in L2\n",
      "===============\n",
      "model_checkpoint_debug\n"
     ]
    }
   ],
   "source": [
    "eb_model.L2_training(model_structure,train,save=True)"
   ]
  },
  {
   "cell_type": "code",
   "execution_count": 12,
   "id": "e8f1f8dc",
   "metadata": {},
   "outputs": [],
   "source": [
    "eb_model.L3_training(save =True)"
   ]
  },
  {
   "cell_type": "code",
   "execution_count": 13,
   "id": "a5d0e8f6",
   "metadata": {},
   "outputs": [
    {
     "data": {
      "text/plain": [
       "[0.2910663130957067, 0.3858978012652377, 0.0036627814500043154]"
      ]
     },
     "execution_count": 13,
     "metadata": {},
     "output_type": "execute_result"
    }
   ],
   "source": [
    "utils.metric_r(eb_model.L1_train_df.true,eb_model.L1_train_df.meta_RF_0)"
   ]
  },
  {
   "cell_type": "code",
   "execution_count": 15,
   "id": "0c444e67",
   "metadata": {},
   "outputs": [
    {
     "data": {
      "text/html": [
       "<div>\n",
       "<style scoped>\n",
       "    .dataframe tbody tr th:only-of-type {\n",
       "        vertical-align: middle;\n",
       "    }\n",
       "\n",
       "    .dataframe tbody tr th {\n",
       "        vertical-align: top;\n",
       "    }\n",
       "\n",
       "    .dataframe thead th {\n",
       "        text-align: right;\n",
       "    }\n",
       "</style>\n",
       "<table border=\"1\" class=\"dataframe\">\n",
       "  <thead>\n",
       "    <tr style=\"text-align: right;\">\n",
       "      <th></th>\n",
       "      <th>true</th>\n",
       "      <th>meta_RF_0</th>\n",
       "      <th>meta_RF_1</th>\n",
       "      <th>meta_MPNN_2</th>\n",
       "      <th>meta_DNN_3</th>\n",
       "      <th>meta_SVR_4</th>\n",
       "    </tr>\n",
       "  </thead>\n",
       "  <tbody>\n",
       "    <tr>\n",
       "      <th>0</th>\n",
       "      <td>2.719213</td>\n",
       "      <td>3.198336</td>\n",
       "      <td>3.196042</td>\n",
       "      <td>3.193726</td>\n",
       "      <td>3.113785</td>\n",
       "      <td>2.819399</td>\n",
       "    </tr>\n",
       "    <tr>\n",
       "      <th>1</th>\n",
       "      <td>2.285557</td>\n",
       "      <td>3.193409</td>\n",
       "      <td>3.190830</td>\n",
       "      <td>3.185762</td>\n",
       "      <td>3.100618</td>\n",
       "      <td>2.585268</td>\n",
       "    </tr>\n",
       "    <tr>\n",
       "      <th>2</th>\n",
       "      <td>3.257439</td>\n",
       "      <td>3.198336</td>\n",
       "      <td>3.196042</td>\n",
       "      <td>3.204944</td>\n",
       "      <td>3.093489</td>\n",
       "      <td>3.157237</td>\n",
       "    </tr>\n",
       "    <tr>\n",
       "      <th>3</th>\n",
       "      <td>3.301030</td>\n",
       "      <td>3.198336</td>\n",
       "      <td>3.196042</td>\n",
       "      <td>3.191794</td>\n",
       "      <td>3.107282</td>\n",
       "      <td>3.201258</td>\n",
       "    </tr>\n",
       "    <tr>\n",
       "      <th>4</th>\n",
       "      <td>3.505150</td>\n",
       "      <td>3.198336</td>\n",
       "      <td>3.196042</td>\n",
       "      <td>3.225988</td>\n",
       "      <td>3.378521</td>\n",
       "      <td>3.404799</td>\n",
       "    </tr>\n",
       "    <tr>\n",
       "      <th>5</th>\n",
       "      <td>3.397940</td>\n",
       "      <td>3.198336</td>\n",
       "      <td>3.196042</td>\n",
       "      <td>3.220609</td>\n",
       "      <td>3.305257</td>\n",
       "      <td>3.470244</td>\n",
       "    </tr>\n",
       "    <tr>\n",
       "      <th>6</th>\n",
       "      <td>3.978089</td>\n",
       "      <td>3.198336</td>\n",
       "      <td>3.196042</td>\n",
       "      <td>3.198808</td>\n",
       "      <td>3.287786</td>\n",
       "      <td>3.877719</td>\n",
       "    </tr>\n",
       "    <tr>\n",
       "      <th>7</th>\n",
       "      <td>3.204120</td>\n",
       "      <td>3.198336</td>\n",
       "      <td>3.196042</td>\n",
       "      <td>3.182270</td>\n",
       "      <td>3.115529</td>\n",
       "      <td>3.104353</td>\n",
       "    </tr>\n",
       "    <tr>\n",
       "      <th>8</th>\n",
       "      <td>3.518514</td>\n",
       "      <td>3.198336</td>\n",
       "      <td>3.196042</td>\n",
       "      <td>3.191297</td>\n",
       "      <td>3.126511</td>\n",
       "      <td>3.418050</td>\n",
       "    </tr>\n",
       "    <tr>\n",
       "      <th>9</th>\n",
       "      <td>3.451786</td>\n",
       "      <td>3.198336</td>\n",
       "      <td>3.196042</td>\n",
       "      <td>3.189742</td>\n",
       "      <td>3.078187</td>\n",
       "      <td>3.351718</td>\n",
       "    </tr>\n",
       "    <tr>\n",
       "      <th>10</th>\n",
       "      <td>3.113943</td>\n",
       "      <td>3.198336</td>\n",
       "      <td>3.196042</td>\n",
       "      <td>3.181731</td>\n",
       "      <td>3.080037</td>\n",
       "      <td>3.214016</td>\n",
       "    </tr>\n",
       "    <tr>\n",
       "      <th>11</th>\n",
       "      <td>3.459895</td>\n",
       "      <td>3.198336</td>\n",
       "      <td>3.196042</td>\n",
       "      <td>3.221262</td>\n",
       "      <td>3.171510</td>\n",
       "      <td>3.360162</td>\n",
       "    </tr>\n",
       "    <tr>\n",
       "      <th>12</th>\n",
       "      <td>2.941449</td>\n",
       "      <td>3.198336</td>\n",
       "      <td>3.196042</td>\n",
       "      <td>3.231723</td>\n",
       "      <td>3.156367</td>\n",
       "      <td>3.041494</td>\n",
       "    </tr>\n",
       "    <tr>\n",
       "      <th>13</th>\n",
       "      <td>3.269513</td>\n",
       "      <td>3.198336</td>\n",
       "      <td>3.196042</td>\n",
       "      <td>3.225304</td>\n",
       "      <td>3.165342</td>\n",
       "      <td>3.169558</td>\n",
       "    </tr>\n",
       "    <tr>\n",
       "      <th>14</th>\n",
       "      <td>3.135133</td>\n",
       "      <td>3.198336</td>\n",
       "      <td>3.196042</td>\n",
       "      <td>3.213393</td>\n",
       "      <td>3.155357</td>\n",
       "      <td>3.235008</td>\n",
       "    </tr>\n",
       "    <tr>\n",
       "      <th>15</th>\n",
       "      <td>2.692847</td>\n",
       "      <td>3.198336</td>\n",
       "      <td>3.196042</td>\n",
       "      <td>3.227414</td>\n",
       "      <td>3.173209</td>\n",
       "      <td>2.793349</td>\n",
       "    </tr>\n",
       "  </tbody>\n",
       "</table>\n",
       "</div>"
      ],
      "text/plain": [
       "        true  meta_RF_0  meta_RF_1  meta_MPNN_2  meta_DNN_3  meta_SVR_4\n",
       "0   2.719213   3.198336   3.196042     3.193726    3.113785    2.819399\n",
       "1   2.285557   3.193409   3.190830     3.185762    3.100618    2.585268\n",
       "2   3.257439   3.198336   3.196042     3.204944    3.093489    3.157237\n",
       "3   3.301030   3.198336   3.196042     3.191794    3.107282    3.201258\n",
       "4   3.505150   3.198336   3.196042     3.225988    3.378521    3.404799\n",
       "5   3.397940   3.198336   3.196042     3.220609    3.305257    3.470244\n",
       "6   3.978089   3.198336   3.196042     3.198808    3.287786    3.877719\n",
       "7   3.204120   3.198336   3.196042     3.182270    3.115529    3.104353\n",
       "8   3.518514   3.198336   3.196042     3.191297    3.126511    3.418050\n",
       "9   3.451786   3.198336   3.196042     3.189742    3.078187    3.351718\n",
       "10  3.113943   3.198336   3.196042     3.181731    3.080037    3.214016\n",
       "11  3.459895   3.198336   3.196042     3.221262    3.171510    3.360162\n",
       "12  2.941449   3.198336   3.196042     3.231723    3.156367    3.041494\n",
       "13  3.269513   3.198336   3.196042     3.225304    3.165342    3.169558\n",
       "14  3.135133   3.198336   3.196042     3.213393    3.155357    3.235008\n",
       "15  2.692847   3.198336   3.196042     3.227414    3.173209    2.793349"
      ]
     },
     "execution_count": 15,
     "metadata": {},
     "output_type": "execute_result"
    }
   ],
   "source": [
    "eb_model.L1_train_df"
   ]
  },
  {
   "cell_type": "code",
   "execution_count": 30,
   "id": "0285ae74",
   "metadata": {},
   "outputs": [
    {
     "data": {
      "text/html": [
       "<div>\n",
       "<style scoped>\n",
       "    .dataframe tbody tr th:only-of-type {\n",
       "        vertical-align: middle;\n",
       "    }\n",
       "\n",
       "    .dataframe tbody tr th {\n",
       "        vertical-align: top;\n",
       "    }\n",
       "\n",
       "    .dataframe thead th {\n",
       "        text-align: right;\n",
       "    }\n",
       "</style>\n",
       "<table border=\"1\" class=\"dataframe\">\n",
       "  <thead>\n",
       "    <tr style=\"text-align: right;\">\n",
       "      <th></th>\n",
       "      <th>nnls</th>\n",
       "    </tr>\n",
       "  </thead>\n",
       "  <tbody>\n",
       "    <tr>\n",
       "      <th>MAE</th>\n",
       "      <td>0.055319</td>\n",
       "    </tr>\n",
       "    <tr>\n",
       "      <th>RMSE</th>\n",
       "      <td>0.072575</td>\n",
       "    </tr>\n",
       "    <tr>\n",
       "      <th>R2</th>\n",
       "      <td>0.964760</td>\n",
       "    </tr>\n",
       "  </tbody>\n",
       "</table>\n",
       "</div>"
      ],
      "text/plain": [
       "          nnls\n",
       "MAE   0.055319\n",
       "RMSE  0.072575\n",
       "R2    0.964760"
      ]
     },
     "execution_count": 30,
     "metadata": {},
     "output_type": "execute_result"
    }
   ],
   "source": [
    "utils.cal_df(eb_model.L3_train_df)"
   ]
  },
  {
   "cell_type": "code",
   "execution_count": 27,
   "id": "feba510d",
   "metadata": {},
   "outputs": [
    {
     "data": {
      "text/plain": [
       "{'meta_RF_0': MAE     0.291066\n",
       " RMSE    0.385898\n",
       " R2      0.003663\n",
       " Name: meta_RF_0, dtype: float64,\n",
       " 'meta_RF_1': MAE     0.291622\n",
       " RMSE    0.385886\n",
       " R2      0.003722\n",
       " Name: meta_RF_1, dtype: float64,\n",
       " 'meta_MPNN_2': MAE     0.289816\n",
       " RMSE    0.385902\n",
       " R2      0.003639\n",
       " Name: meta_MPNN_2, dtype: float64,\n",
       " 'meta_DNN_3': MAE     0.279569\n",
       " RMSE    0.358746\n",
       " R2      0.138936\n",
       " Name: meta_DNN_3, dtype: float64,\n",
       " 'meta_SVR_4': MAE     0.110836\n",
       " RMSE    0.121276\n",
       " R2      0.901596\n",
       " Name: meta_SVR_4, dtype: float64}"
      ]
     },
     "execution_count": 27,
     "metadata": {},
     "output_type": "execute_result"
    }
   ],
   "source": [
    "df = utils.cal_df(eb_model.L1_train_df)\n",
    "dic =dict(df)\n",
    "dic"
   ]
  },
  {
   "cell_type": "code",
   "execution_count": 29,
   "id": "1c54cb0a",
   "metadata": {},
   "outputs": [
    {
     "data": {
      "text/plain": [
       "pandas.core.series.Series"
      ]
     },
     "execution_count": 29,
     "metadata": {},
     "output_type": "execute_result"
    }
   ],
   "source": [
    "type(dic['meta_RF_0'])"
   ]
  },
  {
   "cell_type": "code",
   "execution_count": 3,
   "id": "ab2a4a2c",
   "metadata": {},
   "outputs": [
    {
     "name": "stdout",
     "output_type": "stream",
     "text": [
      "The structure of Stacking model:\n",
      "id= 0,Random Forest Regressor useing ECFP\n",
      "id= 1,Random Forest Regressor useing ECFP\n",
      "id= 2,Message passing neural network for molecular property prediction.\n",
      "id= 3,Deep neural network useing ECFP\n",
      "id= 4,Support vector regression useing ECFP \n",
      "RF predict\n",
      "0\n",
      "RF predict\n",
      "1\n",
      "MPNN predict\n",
      "Loading training args\n",
      "Setting molecule featurization parameters to default.\n",
      "Loading data\n"
     ]
    },
    {
     "name": "stderr",
     "output_type": "stream",
     "text": [
      "16it [00:00, 16151.35it/s]\n",
      "100%|██████████| 16/16 [00:00<00:00, 16008.79it/s]\n"
     ]
    },
    {
     "name": "stdout",
     "output_type": "stream",
     "text": [
      "Validating SMILES\n",
      "Test size = 16\n"
     ]
    },
    {
     "name": "stderr",
     "output_type": "stream",
     "text": [
      "  0%|          | 0/1 [00:00<?, ?it/s]"
     ]
    },
    {
     "name": "stdout",
     "output_type": "stream",
     "text": [
      "Loading pretrained parameter \"encoder.encoder.0.cached_zero_vector\".\n",
      "Loading pretrained parameter \"encoder.encoder.0.W_i.weight\".\n",
      "Loading pretrained parameter \"encoder.encoder.0.W_h.weight\".\n",
      "Loading pretrained parameter \"encoder.encoder.0.W_o.weight\".\n",
      "Loading pretrained parameter \"encoder.encoder.0.W_o.bias\".\n",
      "Loading pretrained parameter \"readout.1.weight\".\n",
      "Loading pretrained parameter \"readout.1.bias\".\n",
      "Loading pretrained parameter \"readout.4.weight\".\n",
      "Loading pretrained parameter \"readout.4.bias\".\n"
     ]
    },
    {
     "name": "stderr",
     "output_type": "stream",
     "text": [
      "100%|██████████| 1/1 [00:09<00:00,  9.80s/it]"
     ]
    },
    {
     "name": "stdout",
     "output_type": "stream",
     "text": [
      "Saving predictions to model_checkpoint_debug/MPNN/predict_df2.csv\n",
      "Elapsed time = 0:00:10\n",
      "DNN predict\n",
      "SVR predict\n",
      "0.2859692634999481\n",
      "0.1149974278683569\n",
      "0.2859692634999481\n",
      "0.0\n",
      "0.2859692634999481\n",
      "0.8834727254026574\n",
      "0.2859692634999481\n",
      "0.0\n",
      "use L3_predict_array to get output\n"
     ]
    },
    {
     "name": "stderr",
     "output_type": "stream",
     "text": [
      "\n"
     ]
    }
   ],
   "source": [
    "eb_model2 = LAY.ensemble_models_new(model_save_files='model_checkpoint_debug')\n",
    "eb_model2.load_pretrained_metamodels(train)\n",
    "utils.cal_df(eb_model2.L1_predict_df)\n",
    "eb_model2.load_pretrained_L2models()\n",
    "eb_model2.load_pretrained_L3model()"
   ]
  },
  {
   "cell_type": "code",
   "execution_count": 4,
   "id": "6ac7f884",
   "metadata": {},
   "outputs": [
    {
     "data": {
      "text/plain": [
       "array([3.85029193, 3.60420448, 4.37097971, 4.38373897, 4.64708994,\n",
       "       4.61262836, 4.983377  , 4.30413479, 4.62359113, 4.58491044,\n",
       "       4.30708835, 4.58947148, 4.19117002, 4.36917942, 4.32612616,\n",
       "       3.86180519])"
      ]
     },
     "execution_count": 4,
     "metadata": {},
     "output_type": "execute_result"
    }
   ],
   "source": [
    "eb_model2.L3_predict_array"
   ]
  },
  {
   "cell_type": "code",
   "execution_count": 8,
   "id": "4f1d0cf0",
   "metadata": {},
   "outputs": [],
   "source": [
    "model = getattr(meta_models,f'meta_RF')"
   ]
  },
  {
   "cell_type": "code",
   "execution_count": 11,
   "id": "5e648801",
   "metadata": {},
   "outputs": [],
   "source": [
    "a = model()"
   ]
  },
  {
   "cell_type": "code",
   "execution_count": 12,
   "id": "533b4211",
   "metadata": {},
   "outputs": [
    {
     "data": {
      "text/plain": [
       "<models.meta_models.meta_RF at 0x234ae1f7390>"
      ]
     },
     "execution_count": 12,
     "metadata": {},
     "output_type": "execute_result"
    }
   ],
   "source": []
  }
 ],
 "metadata": {
  "kernelspec": {
   "display_name": "Python 3.11.4 ('base')",
   "language": "python",
   "name": "python3"
  },
  "language_info": {
   "codemirror_mode": {
    "name": "ipython",
    "version": 3
   },
   "file_extension": ".py",
   "mimetype": "text/x-python",
   "name": "python",
   "nbconvert_exporter": "python",
   "pygments_lexer": "ipython3",
   "version": "3.11.4"
  },
  "toc": {
   "base_numbering": 1,
   "nav_menu": {},
   "number_sections": true,
   "sideBar": true,
   "skip_h1_title": false,
   "title_cell": "Table of Contents",
   "title_sidebar": "Contents",
   "toc_cell": false,
   "toc_position": {},
   "toc_section_display": true,
   "toc_window_display": false
  },
  "vscode": {
   "interpreter": {
    "hash": "7e79778971307f49b29f55759047cdc884f212fd43f85515c7cab903b1a0b835"
   }
  }
 },
 "nbformat": 4,
 "nbformat_minor": 5
}
