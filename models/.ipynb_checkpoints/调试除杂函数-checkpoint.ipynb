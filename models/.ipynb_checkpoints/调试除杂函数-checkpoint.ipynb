{
 "cells": [
  {
   "cell_type": "markdown",
   "id": "fea70b51",
   "metadata": {},
   "source": [
    "# 测试"
   ]
  },
  {
   "cell_type": "code",
   "execution_count": 1,
   "id": "23ab0e84",
   "metadata": {},
   "outputs": [
    {
     "name": "stderr",
     "output_type": "stream",
     "text": [
      "Skipped loading some Tensorflow models, missing a dependency. No module named 'tensorflow'\n",
      "Skipped loading modules with pytorch-lightning dependency, missing a dependency. No module named 'pytorch_lightning'\n",
      "Skipped loading some Jax models, missing a dependency. No module named 'jax'\n"
     ]
    }
   ],
   "source": [
    "import sys\n",
    "sys.path.append(\"../DB\")\n",
    "\n",
    "from DB import db\n",
    "\n",
    "import numpy as np\n",
    "import pandas as pd\n",
    "from LAY2 import  ensemble_models\n",
    "from utils import Args\n",
    "from utils import metric_r, metric_c\n",
    "import utils\n",
    "import deepchem as dc"
   ]
  },
  {
   "cell_type": "code",
   "execution_count": 2,
   "id": "bb06162a",
   "metadata": {},
   "outputs": [
    {
     "name": "stdout",
     "output_type": "stream",
     "text": [
      "data already finished size =9026\n"
     ]
    }
   ],
   "source": [
    "# 加载数据集\n",
    "data_loader = db('../DataBase/DB.csv')"
   ]
  },
  {
   "cell_type": "code",
   "execution_count": 3,
   "id": "19366ee1",
   "metadata": {},
   "outputs": [
    {
     "data": {
      "text/html": [
       "<div>\n",
       "<style scoped>\n",
       "    .dataframe tbody tr th:only-of-type {\n",
       "        vertical-align: middle;\n",
       "    }\n",
       "\n",
       "    .dataframe tbody tr th {\n",
       "        vertical-align: top;\n",
       "    }\n",
       "\n",
       "    .dataframe thead th {\n",
       "        text-align: right;\n",
       "    }\n",
       "</style>\n",
       "<table border=\"1\" class=\"dataframe\">\n",
       "  <thead>\n",
       "    <tr style=\"text-align: right;\">\n",
       "      <th></th>\n",
       "      <th>CASRN</th>\n",
       "      <th>LogLD</th>\n",
       "      <th>smiles</th>\n",
       "    </tr>\n",
       "  </thead>\n",
       "  <tbody>\n",
       "    <tr>\n",
       "      <th>0</th>\n",
       "      <td>100-00-5</td>\n",
       "      <td>2.719213</td>\n",
       "      <td>C1=CC(=CC=C1[N+](=O)[O-])Cl</td>\n",
       "    </tr>\n",
       "    <tr>\n",
       "      <th>1</th>\n",
       "      <td>100-02-7</td>\n",
       "      <td>2.285557</td>\n",
       "      <td>C1=CC(=CC=C1[N+](=O)[O-])O</td>\n",
       "    </tr>\n",
       "    <tr>\n",
       "      <th>2</th>\n",
       "      <td>100-14-1</td>\n",
       "      <td>3.257439</td>\n",
       "      <td>C1=CC(=CC=C1CCl)[N+](=O)[O-]</td>\n",
       "    </tr>\n",
       "    <tr>\n",
       "      <th>3</th>\n",
       "      <td>100-15-2</td>\n",
       "      <td>3.301030</td>\n",
       "      <td>CNC1=CC=C(C=C1)[N+](=O)[O-]</td>\n",
       "    </tr>\n",
       "    <tr>\n",
       "      <th>4</th>\n",
       "      <td>100-17-4</td>\n",
       "      <td>3.361728</td>\n",
       "      <td>COC1=CC=C(C=C1)[N+](=O)[O-]</td>\n",
       "    </tr>\n",
       "  </tbody>\n",
       "</table>\n",
       "</div>"
      ],
      "text/plain": [
       "      CASRN     LogLD                        smiles\n",
       "0  100-00-5  2.719213   C1=CC(=CC=C1[N+](=O)[O-])Cl\n",
       "1  100-02-7  2.285557    C1=CC(=CC=C1[N+](=O)[O-])O\n",
       "2  100-14-1  3.257439  C1=CC(=CC=C1CCl)[N+](=O)[O-]\n",
       "3  100-15-2  3.301030   CNC1=CC=C(C=C1)[N+](=O)[O-]\n",
       "4  100-17-4  3.361728   COC1=CC=C(C=C1)[N+](=O)[O-]"
      ]
     },
     "execution_count": 3,
     "metadata": {},
     "output_type": "execute_result"
    }
   ],
   "source": [
    "df = data_loader.data \n",
    "df.head()"
   ]
  },
  {
   "cell_type": "markdown",
   "id": "48690561",
   "metadata": {},
   "source": [
    "## 测试AFP的dataloader"
   ]
  },
  {
   "cell_type": "code",
   "execution_count": 4,
   "id": "e01d515d",
   "metadata": {},
   "outputs": [],
   "source": []
  },
  {
   "cell_type": "code",
   "execution_count": 5,
   "id": "1e5512c7",
   "metadata": {},
   "outputs": [],
   "source": [
    "AFP_featurizer = dc.feat.MolGraphConvFeaturizer(use_edges=True)"
   ]
  },
  {
   "cell_type": "code",
   "execution_count": 6,
   "id": "511c95f6",
   "metadata": {},
   "outputs": [
    {
     "name": "stderr",
     "output_type": "stream",
     "text": [
      "[14:24:22] WARNING: not removing hydrogen atom without neighbors\n",
      "[14:24:22] WARNING: not removing hydrogen atom without neighbors\n",
      "[14:24:33] WARNING: not removing hydrogen atom without neighbors\n",
      "[14:24:33] WARNING: not removing hydrogen atom without neighbors\n",
      "[14:24:35] WARNING: not removing hydrogen atom without neighbors\n",
      "[14:24:40] WARNING: not removing hydrogen atom without neighbors\n",
      "[14:24:40] WARNING: not removing hydrogen atom without neighbors\n",
      "[14:24:40] WARNING: not removing hydrogen atom without neighbors\n",
      "[14:24:54] WARNING: not removing hydrogen atom without neighbors\n",
      "[14:24:58] WARNING: not removing hydrogen atom without neighbors\n",
      "[14:25:15] WARNING: not removing hydrogen atom without neighbors\n",
      "Failed to featurize datapoint 7448, C. Appending empty array\n",
      "Exception message: More than one atom should be present in the molecule for this featurizer to work.\n",
      "Failed to featurize datapoint 7487, [C]. Appending empty array\n",
      "Exception message: More than one atom should be present in the molecule for this featurizer to work.\n",
      "Failed to featurize datapoint 7639, [Br-].[Na+]. Appending empty array\n",
      "Exception message: tuple index out of range\n",
      "Failed to featurize datapoint 7700, [S]. Appending empty array\n",
      "Exception message: More than one atom should be present in the molecule for this featurizer to work.\n"
     ]
    }
   ],
   "source": [
    "data_set_AFP = utils.dataloader_PytorchModel(df , AFP_featurizer)"
   ]
  },
  {
   "cell_type": "code",
   "execution_count": 7,
   "id": "e9bf3b81",
   "metadata": {},
   "outputs": [
    {
     "name": "stdout",
     "output_type": "stream",
     "text": [
      "存在4个异常物质\n"
     ]
    }
   ],
   "source": [
    "i=0\n",
    "for x in data_set_AFP.X:\n",
    "    if type(x) != type(data_set_AFP.X[0]):\n",
    "        i+=1\n",
    "print(\"存在{}个异常物质\".format(i))"
   ]
  },
  {
   "cell_type": "code",
   "execution_count": 8,
   "id": "55c1f9c5",
   "metadata": {},
   "outputs": [],
   "source": [
    "def check_array(arr):\n",
    "    # 从一个array的元素中找到所有empty元素，并返回一个位置列表\n",
    "    location_lis = []\n",
    "    for i in range(len(arr)):\n",
    "        if type(arr[i]) != type(arr[0]):\n",
    "            location_lis.append(i)\n",
    "    return location_lis"
   ]
  },
  {
   "cell_type": "code",
   "execution_count": 22,
   "id": "9c229297",
   "metadata": {},
   "outputs": [],
   "source": [
    "index_lis = check_array(data_set_AFP.X)"
   ]
  },
  {
   "cell_type": "code",
   "execution_count": 17,
   "id": "681ead47",
   "metadata": {},
   "outputs": [],
   "source": [
    "def dataloader_PytorchModel_629(df, featurizer):\n",
    "    \"\"\"  629 去除不能图转化的化合物\n",
    "    用于GAT和AFP的数据加载器，因为都是pytorch模型，故命名为dataloader_PytorchModel\n",
    "    输入df，并将其smiles转换格式，返回dc.dataset\n",
    "    :param df: 含有smiles和LogLD列的df\n",
    "    :param featurizer : 和模型对应的转换器\n",
    "    :return:返回NumpyDataset，用于dc类模型训练；以及空元素位置\n",
    "    \"\"\"\n",
    "    def check_array(arr):\n",
    "    \n",
    "    # 从一个array的元素中找到所有empty元素，并返回一个位置列表\n",
    "        location_lis = []\n",
    "        for i in range(len(arr)):\n",
    "            if type(arr[i]) != type(arr[0]):\n",
    "                location_lis.append(i)\n",
    "        return location_lis\n",
    "    \n",
    "    # featurizer = dc.feat.MolGraphConvFeaturizer(use_edges=True)\n",
    "    # 空元素位置\n",
    "    \n",
    "    \n",
    "    smiles_l = list(df.smiles)\n",
    "    x = featurizer.featurize(smiles_l)    \n",
    "    y_data = df.LogLD\n",
    "    \n",
    "    location_lis = check_array(x)\n",
    "    x = np.delete(x,location_lis)\n",
    "    y_data = np.delete(np.array(y_data) ,location_lis)\n",
    "    dataset = dc.data.NumpyDataset(X=x, y=y_data)\n",
    "    \n",
    "    return dataset, location_lis"
   ]
  },
  {
   "cell_type": "code",
   "execution_count": 18,
   "id": "cab3abe7",
   "metadata": {},
   "outputs": [
    {
     "name": "stderr",
     "output_type": "stream",
     "text": [
      "[14:40:13] WARNING: not removing hydrogen atom without neighbors\n",
      "[14:40:13] WARNING: not removing hydrogen atom without neighbors\n",
      "[14:40:22] WARNING: not removing hydrogen atom without neighbors\n",
      "[14:40:22] WARNING: not removing hydrogen atom without neighbors\n",
      "[14:40:23] WARNING: not removing hydrogen atom without neighbors\n",
      "[14:40:28] WARNING: not removing hydrogen atom without neighbors\n",
      "[14:40:28] WARNING: not removing hydrogen atom without neighbors\n",
      "[14:40:29] WARNING: not removing hydrogen atom without neighbors\n",
      "[14:40:41] WARNING: not removing hydrogen atom without neighbors\n",
      "[14:40:45] WARNING: not removing hydrogen atom without neighbors\n",
      "[14:41:01] WARNING: not removing hydrogen atom without neighbors\n",
      "Failed to featurize datapoint 7448, C. Appending empty array\n",
      "Exception message: More than one atom should be present in the molecule for this featurizer to work.\n",
      "Failed to featurize datapoint 7487, [C]. Appending empty array\n",
      "Exception message: More than one atom should be present in the molecule for this featurizer to work.\n",
      "Failed to featurize datapoint 7639, [Br-].[Na+]. Appending empty array\n",
      "Exception message: tuple index out of range\n",
      "Failed to featurize datapoint 7700, [S]. Appending empty array\n",
      "Exception message: More than one atom should be present in the molecule for this featurizer to work.\n"
     ]
    }
   ],
   "source": [
    "a,b = dataloader_PytorchModel_629(df,AFP_featurizer)"
   ]
  },
  {
   "cell_type": "code",
   "execution_count": 27,
   "id": "8c374c16",
   "metadata": {},
   "outputs": [
    {
     "data": {
      "text/html": [
       "<div>\n",
       "<style scoped>\n",
       "    .dataframe tbody tr th:only-of-type {\n",
       "        vertical-align: middle;\n",
       "    }\n",
       "\n",
       "    .dataframe tbody tr th {\n",
       "        vertical-align: top;\n",
       "    }\n",
       "\n",
       "    .dataframe thead th {\n",
       "        text-align: right;\n",
       "    }\n",
       "</style>\n",
       "<table border=\"1\" class=\"dataframe\">\n",
       "  <thead>\n",
       "    <tr style=\"text-align: right;\">\n",
       "      <th></th>\n",
       "      <th>CASRN</th>\n",
       "      <th>LogLD</th>\n",
       "      <th>smiles</th>\n",
       "    </tr>\n",
       "  </thead>\n",
       "  <tbody>\n",
       "    <tr>\n",
       "      <th>3</th>\n",
       "      <td>100-15-2</td>\n",
       "      <td>3.301030</td>\n",
       "      <td>CNC1=CC=C(C=C1)[N+](=O)[O-]</td>\n",
       "    </tr>\n",
       "    <tr>\n",
       "      <th>4</th>\n",
       "      <td>100-17-4</td>\n",
       "      <td>3.361728</td>\n",
       "      <td>COC1=CC=C(C=C1)[N+](=O)[O-]</td>\n",
       "    </tr>\n",
       "    <tr>\n",
       "      <th>5</th>\n",
       "      <td>100-18-5</td>\n",
       "      <td>3.505150</td>\n",
       "      <td>CC(C)C1=CC=C(C=C1)C(C)C</td>\n",
       "    </tr>\n",
       "    <tr>\n",
       "      <th>6</th>\n",
       "      <td>100-20-9</td>\n",
       "      <td>3.397940</td>\n",
       "      <td>C1=CC(=CC=C1C(=O)Cl)C(=O)Cl</td>\n",
       "    </tr>\n",
       "    <tr>\n",
       "      <th>7</th>\n",
       "      <td>100-21-0</td>\n",
       "      <td>3.978089</td>\n",
       "      <td>C1=CC(=CC=C1C(=O)O)C(=O)O</td>\n",
       "    </tr>\n",
       "    <tr>\n",
       "      <th>...</th>\n",
       "      <td>...</td>\n",
       "      <td>...</td>\n",
       "      <td>...</td>\n",
       "    </tr>\n",
       "    <tr>\n",
       "      <th>9021</th>\n",
       "      <td>999-34-8</td>\n",
       "      <td>0.350248</td>\n",
       "      <td>CCCSP(C)SCCC</td>\n",
       "    </tr>\n",
       "    <tr>\n",
       "      <th>9022</th>\n",
       "      <td>999-61-1</td>\n",
       "      <td>2.397940</td>\n",
       "      <td>CC(COC(=O)C=C)O</td>\n",
       "    </tr>\n",
       "    <tr>\n",
       "      <th>9023</th>\n",
       "      <td>999-81-5</td>\n",
       "      <td>2.806689</td>\n",
       "      <td>C[N+](C)(C)CCCl.[Cl-]</td>\n",
       "    </tr>\n",
       "    <tr>\n",
       "      <th>9024</th>\n",
       "      <td>999-97-3</td>\n",
       "      <td>2.929078</td>\n",
       "      <td>C[Si](C)(C)N[Si](C)(C)C</td>\n",
       "    </tr>\n",
       "    <tr>\n",
       "      <th>9025</th>\n",
       "      <td>Flufenpyr-ethyl</td>\n",
       "      <td>3.698970</td>\n",
       "      <td>CCOC(=O)COc1cc(N2N=CC(=C(C)C2=O)C(F)(F)F)c(F)c...</td>\n",
       "    </tr>\n",
       "  </tbody>\n",
       "</table>\n",
       "<p>9023 rows × 3 columns</p>\n",
       "</div>"
      ],
      "text/plain": [
       "                CASRN     LogLD  \\\n",
       "3            100-15-2  3.301030   \n",
       "4            100-17-4  3.361728   \n",
       "5            100-18-5  3.505150   \n",
       "6            100-20-9  3.397940   \n",
       "7            100-21-0  3.978089   \n",
       "...               ...       ...   \n",
       "9021         999-34-8  0.350248   \n",
       "9022         999-61-1  2.397940   \n",
       "9023         999-81-5  2.806689   \n",
       "9024         999-97-3  2.929078   \n",
       "9025  Flufenpyr-ethyl  3.698970   \n",
       "\n",
       "                                                 smiles  \n",
       "3                           CNC1=CC=C(C=C1)[N+](=O)[O-]  \n",
       "4                           COC1=CC=C(C=C1)[N+](=O)[O-]  \n",
       "5                               CC(C)C1=CC=C(C=C1)C(C)C  \n",
       "6                           C1=CC(=CC=C1C(=O)Cl)C(=O)Cl  \n",
       "7                             C1=CC(=CC=C1C(=O)O)C(=O)O  \n",
       "...                                                 ...  \n",
       "9021                                       CCCSP(C)SCCC  \n",
       "9022                                    CC(COC(=O)C=C)O  \n",
       "9023                              C[N+](C)(C)CCCl.[Cl-]  \n",
       "9024                            C[Si](C)(C)N[Si](C)(C)C  \n",
       "9025  CCOC(=O)COc1cc(N2N=CC(=C(C)C2=O)C(F)(F)F)c(F)c...  \n",
       "\n",
       "[9023 rows x 3 columns]"
      ]
     },
     "execution_count": 27,
     "metadata": {},
     "output_type": "execute_result"
    }
   ],
   "source": [
    "df.drop([0,1,2])"
   ]
  },
  {
   "cell_type": "code",
   "execution_count": 29,
   "id": "a452ff84",
   "metadata": {},
   "outputs": [
    {
     "data": {
      "text/html": [
       "<div>\n",
       "<style scoped>\n",
       "    .dataframe tbody tr th:only-of-type {\n",
       "        vertical-align: middle;\n",
       "    }\n",
       "\n",
       "    .dataframe tbody tr th {\n",
       "        vertical-align: top;\n",
       "    }\n",
       "\n",
       "    .dataframe thead th {\n",
       "        text-align: right;\n",
       "    }\n",
       "</style>\n",
       "<table border=\"1\" class=\"dataframe\">\n",
       "  <thead>\n",
       "    <tr style=\"text-align: right;\">\n",
       "      <th></th>\n",
       "      <th>CASRN</th>\n",
       "      <th>LogLD</th>\n",
       "      <th>smiles</th>\n",
       "    </tr>\n",
       "  </thead>\n",
       "  <tbody>\n",
       "    <tr>\n",
       "      <th>0</th>\n",
       "      <td>100-00-5</td>\n",
       "      <td>2.719213</td>\n",
       "      <td>C1=CC(=CC=C1[N+](=O)[O-])Cl</td>\n",
       "    </tr>\n",
       "    <tr>\n",
       "      <th>1</th>\n",
       "      <td>100-02-7</td>\n",
       "      <td>2.285557</td>\n",
       "      <td>C1=CC(=CC=C1[N+](=O)[O-])O</td>\n",
       "    </tr>\n",
       "    <tr>\n",
       "      <th>2</th>\n",
       "      <td>100-14-1</td>\n",
       "      <td>3.257439</td>\n",
       "      <td>C1=CC(=CC=C1CCl)[N+](=O)[O-]</td>\n",
       "    </tr>\n",
       "    <tr>\n",
       "      <th>3</th>\n",
       "      <td>100-15-2</td>\n",
       "      <td>3.301030</td>\n",
       "      <td>CNC1=CC=C(C=C1)[N+](=O)[O-]</td>\n",
       "    </tr>\n",
       "    <tr>\n",
       "      <th>4</th>\n",
       "      <td>100-17-4</td>\n",
       "      <td>3.361728</td>\n",
       "      <td>COC1=CC=C(C=C1)[N+](=O)[O-]</td>\n",
       "    </tr>\n",
       "    <tr>\n",
       "      <th>...</th>\n",
       "      <td>...</td>\n",
       "      <td>...</td>\n",
       "      <td>...</td>\n",
       "    </tr>\n",
       "    <tr>\n",
       "      <th>9021</th>\n",
       "      <td>999-34-8</td>\n",
       "      <td>0.350248</td>\n",
       "      <td>CCCSP(C)SCCC</td>\n",
       "    </tr>\n",
       "    <tr>\n",
       "      <th>9022</th>\n",
       "      <td>999-61-1</td>\n",
       "      <td>2.397940</td>\n",
       "      <td>CC(COC(=O)C=C)O</td>\n",
       "    </tr>\n",
       "    <tr>\n",
       "      <th>9023</th>\n",
       "      <td>999-81-5</td>\n",
       "      <td>2.806689</td>\n",
       "      <td>C[N+](C)(C)CCCl.[Cl-]</td>\n",
       "    </tr>\n",
       "    <tr>\n",
       "      <th>9024</th>\n",
       "      <td>999-97-3</td>\n",
       "      <td>2.929078</td>\n",
       "      <td>C[Si](C)(C)N[Si](C)(C)C</td>\n",
       "    </tr>\n",
       "    <tr>\n",
       "      <th>9025</th>\n",
       "      <td>Flufenpyr-ethyl</td>\n",
       "      <td>3.698970</td>\n",
       "      <td>CCOC(=O)COc1cc(N2N=CC(=C(C)C2=O)C(F)(F)F)c(F)c...</td>\n",
       "    </tr>\n",
       "  </tbody>\n",
       "</table>\n",
       "<p>9026 rows × 3 columns</p>\n",
       "</div>"
      ],
      "text/plain": [
       "                CASRN     LogLD  \\\n",
       "0            100-00-5  2.719213   \n",
       "1            100-02-7  2.285557   \n",
       "2            100-14-1  3.257439   \n",
       "3            100-15-2  3.301030   \n",
       "4            100-17-4  3.361728   \n",
       "...               ...       ...   \n",
       "9021         999-34-8  0.350248   \n",
       "9022         999-61-1  2.397940   \n",
       "9023         999-81-5  2.806689   \n",
       "9024         999-97-3  2.929078   \n",
       "9025  Flufenpyr-ethyl  3.698970   \n",
       "\n",
       "                                                 smiles  \n",
       "0                           C1=CC(=CC=C1[N+](=O)[O-])Cl  \n",
       "1                            C1=CC(=CC=C1[N+](=O)[O-])O  \n",
       "2                          C1=CC(=CC=C1CCl)[N+](=O)[O-]  \n",
       "3                           CNC1=CC=C(C=C1)[N+](=O)[O-]  \n",
       "4                           COC1=CC=C(C=C1)[N+](=O)[O-]  \n",
       "...                                                 ...  \n",
       "9021                                       CCCSP(C)SCCC  \n",
       "9022                                    CC(COC(=O)C=C)O  \n",
       "9023                              C[N+](C)(C)CCCl.[Cl-]  \n",
       "9024                            C[Si](C)(C)N[Si](C)(C)C  \n",
       "9025  CCOC(=O)COc1cc(N2N=CC(=C(C)C2=O)C(F)(F)F)c(F)c...  \n",
       "\n",
       "[9026 rows x 3 columns]"
      ]
     },
     "execution_count": 29,
     "metadata": {},
     "output_type": "execute_result"
    }
   ],
   "source": [
    "df.reindex()"
   ]
  },
  {
   "cell_type": "code",
   "execution_count": 30,
   "id": "3c606521",
   "metadata": {},
   "outputs": [],
   "source": [
    "lis = [0,0]"
   ]
  },
  {
   "cell_type": "code",
   "execution_count": 32,
   "id": "f82125fa",
   "metadata": {},
   "outputs": [
    {
     "data": {
      "text/plain": [
       "[2, 0]"
      ]
     },
     "execution_count": 32,
     "metadata": {},
     "output_type": "execute_result"
    }
   ],
   "source": [
    "lis[0]+=1\n",
    "lis "
   ]
  },
  {
   "cell_type": "code",
   "execution_count": null,
   "id": "339acf12",
   "metadata": {},
   "outputs": [],
   "source": []
  },
  {
   "cell_type": "code",
   "execution_count": 33,
   "id": "48e1c42d",
   "metadata": {},
   "outputs": [],
   "source": [
    "# 测试除杂函数"
   ]
  },
  {
   "cell_type": "code",
   "execution_count": null,
   "id": "f2373698",
   "metadata": {},
   "outputs": [],
   "source": []
  }
 ],
 "metadata": {
  "kernelspec": {
   "display_name": "Python 3 (ipykernel)",
   "language": "python",
   "name": "python3"
  },
  "language_info": {
   "codemirror_mode": {
    "name": "ipython",
    "version": 3
   },
   "file_extension": ".py",
   "mimetype": "text/x-python",
   "name": "python",
   "nbconvert_exporter": "python",
   "pygments_lexer": "ipython3",
   "version": "3.7.1"
  },
  "toc": {
   "base_numbering": 1,
   "nav_menu": {},
   "number_sections": true,
   "sideBar": true,
   "skip_h1_title": false,
   "title_cell": "Table of Contents",
   "title_sidebar": "Contents",
   "toc_cell": false,
   "toc_position": {},
   "toc_section_display": true,
   "toc_window_display": false
  }
 },
 "nbformat": 4,
 "nbformat_minor": 5
}
